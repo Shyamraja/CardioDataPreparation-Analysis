{
 "cells": [
  {
   "cell_type": "code",
   "execution_count": 2,
   "metadata": {},
   "outputs": [
    {
     "name": "stdout",
     "output_type": "stream",
     "text": [
      "     age  gender  height  body_mass  blood_pressure_high  blood_pressure_low  \\\n",
      "0  19797   False     161         55                  102                  68   \n",
      "1  22571    True     178         68                  120                  70   \n",
      "2  16621    True     169         69                  120                  80   \n",
      "3  16688   False     156         77                  120                  80   \n",
      "4  19498    True     170         98                  130                  80   \n",
      "\n",
      "   smoke  active  cardio serum_lipid_level  family_history  \n",
      "0  False    True   False          elevated           False  \n",
      "1  False   False   False            normal           False  \n",
      "2  False    True   False            normal           False  \n",
      "3  False    True   False            normal           False  \n",
      "4   True    True    True          elevated           False  \n",
      "age                       int32\n",
      "gender                  boolean\n",
      "height                    int32\n",
      "body_mass                 int32\n",
      "blood_pressure_high       int32\n",
      "blood_pressure_low        int32\n",
      "smoke                   boolean\n",
      "active                  boolean\n",
      "cardio                  boolean\n",
      "serum_lipid_level      category\n",
      "family_history          boolean\n",
      "dtype: object\n",
      "Numeric features: ['age', 'height', 'body_mass', 'blood_pressure_high', 'blood_pressure_low']\n",
      "Binary features: ['gender', 'smoke', 'active', 'cardio', 'family_history']\n",
      "Categorical features: ['serum_lipid_level']\n"
     ]
    }
   ],
   "source": [
    "import pandas as pd\n",
    "data_path = \"CardioCare_ex1.csv\" #if you just give the name of the file it will look for the data in the same folder as your script\n",
    "data = pd.read_csv(data_path, dtype = {'age': 'int', 'height': 'int', 'body_mass':'int', 'blood_pressure_low':'int', 'blood_pressure_high':'int', 'gender': 'boolean', 'smoke': 'boolean',\n",
    "       'active':'boolean', 'cardio':'boolean', 'serum_lipid_level':'category', 'family_history':'boolean'}) \n",
    "#the main data you use in this exercise should have this variable name, so that code given for you further on will run.\n",
    "# print first 5 rows\n",
    "print(data.head())\n",
    "print(data.dtypes)\n",
    "# select_dtypes is pandas function to return the subset of DataFram's columns based on column dtypes\n",
    "# include used here for set to a list of data types to include in returned DataFrame\n",
    "# columns return column labels and tolist converts the column label to list and object with actual categorical types.\n",
    "numeric_features = data.select_dtypes(include=['int']).columns.tolist()\n",
    "binary_features = data.select_dtypes(include=['bool']).columns.tolist()\n",
    "categorical_features = data.select_dtypes(include=['category']).columns.tolist()\n",
    "\n",
    "print(\"Numeric features:\", numeric_features)\n",
    "print(\"Binary features:\", binary_features)\n",
    "print(\"Categorical features:\", categorical_features)"
   ]
  }
 ],
 "metadata": {
  "kernelspec": {
   "display_name": "Python 3",
   "language": "python",
   "name": "python3"
  },
  "language_info": {
   "codemirror_mode": {
    "name": "ipython",
    "version": 3
   },
   "file_extension": ".py",
   "mimetype": "text/x-python",
   "name": "python",
   "nbconvert_exporter": "python",
   "pygments_lexer": "ipython3",
   "version": "3.11.3"
  }
 },
 "nbformat": 4,
 "nbformat_minor": 2
}
